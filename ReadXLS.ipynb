{
 "cells": [
  {
   "cell_type": "code",
   "execution_count": 1,
   "metadata": {},
   "outputs": [],
   "source": [
    "import pandas as pd\n",
    "import win32com.client"
   ]
  },
  {
   "cell_type": "code",
   "execution_count": 5,
   "metadata": {},
   "outputs": [],
   "source": [
    "excel_path = 'C:\\\\Balance_Sheet (1).xls'\n",
    "sheet_name = 'Balance Sheet'\n"
   ]
  },
  {
   "cell_type": "code",
   "execution_count": 6,
   "metadata": {},
   "outputs": [],
   "source": [
    "def parse_excel(excel_path,sheet_name,header_row=5):\n",
    "    xl_app = win32com.client.Dispatch('Excel.Application')\n",
    "    xl_app.Visible = False\n",
    "    xl_wb = xl_app.Workbooks.Open(excel_path)\n",
    "    xl_sh = xl_wb.Worksheets(sheet_name)\n",
    "    \n",
    "    row_num = header_row + 1\n",
    "    cell_val = ''\n",
    "    while cell_val != None:\n",
    "        row_num += 1\n",
    "        cell_val = xl_sh.Cells(row_num, 1).Value\n",
    "    last_row = row_num - 1\n",
    "    \n",
    "    col_num = 1 \n",
    "    cell_val = ''\n",
    "    while cell_val != None:\n",
    "        col_num += 1\n",
    "        cell_val = xl_sh.Cells(header_row, col_num).Value\n",
    "    last_col = col_num - 1\n",
    "    \n",
    "    content = xl_sh.Range(xl_sh.Cells(5, 1), xl_sh.Cells(last_row, last_col)).Value\n",
    "    df = pd.DataFrame(list(content[1:]), columns=content[0]).fillna(0)\n",
    "    xl_app.Application.Quit()\n",
    "    return df"
   ]
  },
  {
   "cell_type": "code",
   "execution_count": 7,
   "metadata": {},
   "outputs": [],
   "source": [
    "df = parse_excel(excel_path,sheet_name)"
   ]
  },
  {
   "cell_type": "code",
   "execution_count": null,
   "metadata": {},
   "outputs": [],
   "source": [
    "df.head()"
   ]
  },
  {
   "cell_type": "code",
   "execution_count": null,
   "metadata": {},
   "outputs": [],
   "source": []
  }
 ],
 "metadata": {
  "kernelspec": {
   "display_name": "Python 3",
   "language": "python",
   "name": "python3"
  },
  "language_info": {
   "codemirror_mode": {
    "name": "ipython",
    "version": 3
   },
   "file_extension": ".py",
   "mimetype": "text/x-python",
   "name": "python",
   "nbconvert_exporter": "python",
   "pygments_lexer": "ipython3",
   "version": "3.7.6"
  }
 },
 "nbformat": 4,
 "nbformat_minor": 4
}
